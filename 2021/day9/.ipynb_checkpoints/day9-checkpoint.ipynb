{
 "cells": [
  {
   "cell_type": "code",
   "execution_count": 2,
   "metadata": {},
   "outputs": [],
   "source": [
    "## read lines\n",
    "lines = readlines(\"day9.txt\")\n",
    "## create matrix\n",
    "A = reshape([parse(Int64,x) for x in join(lines)], 100,100)';"
   ]
  },
  {
   "cell_type": "code",
   "execution_count": 37,
   "metadata": {},
   "outputs": [
    {
     "data": {
      "text/plain": [
       "is_min (generic function with 1 method)"
      ]
     },
     "execution_count": 37,
     "metadata": {},
     "output_type": "execute_result"
    }
   ],
   "source": [
    "using Statistics\n",
    "\n",
    "function bfr(x)\n",
    "    if x <= 1\n",
    "        return 1\n",
    "    elseif x >= 100\n",
    "        return 100\n",
    "    else\n",
    "        return x\n",
    "    end\n",
    "end\n",
    "\n",
    "function is_min(r,c)\n",
    "    if (A[r,c] <= A[r,bfr(c-1)]) & \n",
    "        (A[r,c] <= A[r,bfr(c+1)]) & \n",
    "        (A[r,c] <= A[bfr(r-1),c]) & \n",
    "        (A[r,c] <= A[bfr(r+1),c]) & \n",
    "        (A[r,c] != mean([A[r,bfr(c-1)], A[r,bfr(c+1)], A[bfr(r-1),c], A[bfr(r+1),c]]))\n",
    "        return (A[r,c]+1)\n",
    "    else\n",
    "        return 0\n",
    "    end\n",
    "end\n",
    "\n",
    "sum([is_min(r,c) for r in 1:100 for c in 1:100])"
   ]
  },
  {
   "cell_type": "code",
   "execution_count": 38,
   "metadata": {},
   "outputs": [
    {
     "data": {
      "text/plain": [
       "607"
      ]
     },
     "execution_count": 38,
     "metadata": {},
     "output_type": "execute_result"
    }
   ],
   "source": []
  },
  {
   "cell_type": "code",
   "execution_count": 95,
   "metadata": {},
   "outputs": [
    {
     "data": {
      "text/plain": [
       "matrixmin (generic function with 1 method)"
      ]
     },
     "execution_count": 95,
     "metadata": {},
     "output_type": "execute_result"
    }
   ],
   "source": [
    "# function matrixmin(r,c)\n",
    "#     if r < 100 & r > 1 & c < 100 & c > 1\n",
    "#         if (A[r,c] < A[r+1, c]) & (A[r,c] < A[r-1, c]) & (A[r,c] < A[r, c+1]) & (A[r,c] < A[r, c-1])\n",
    "#             return A[r,c]+1\n",
    "#         else\n",
    "#             return 0\n",
    "#         end\n",
    "#     elseif r < 100 & r > 1 & c < 100 & c == 1\n",
    "#         if (A[r,c] < A[r+1, c]) & (A[r,c] < A[r-1, c]) & (A[r,c] < A[r, c+1]) \n",
    "#                 return A[r,c]+1\n",
    "#         else\n",
    "#             return 0\n",
    "#         end\n",
    "#     elseif r < 100 & r > 1 & c == 100 & c > 1\n",
    "#         if (A[r,c] < A[r+1, c]) & (A[r,c] < A[r-1, c]) & (A[r,c] < A[r, c-1]) \n",
    "#             return A[r,c]+1\n",
    "#         else\n",
    "#             return 0\n",
    "#         end\n",
    "#     elseif r < 100 & r == 1 & c < 100 & c > 1\n",
    "#         if (A[r,c] < A[r+1, c]) & (A[r,c] < A[r, c+1]) & (A[r,c] < A[r, c-1])\n",
    "#             return A[r,c]+1\n",
    "#         else\n",
    "#             return 0\n",
    "#         end\n",
    "#     elseif r == 100 & r > 1 & c < 100 & c > 1\n",
    "#         if(A[r,c] < A[r-1, c]) & (A[r,c] < A[r, c+1]) & (A[r,c] < A[r, c-1])\n",
    "#             return A[r,c]+1\n",
    "#         else\n",
    "#             return 0\n",
    "#         end\n",
    "#     end\n",
    "# end"
   ]
  },
  {
   "cell_type": "code",
   "execution_count": 96,
   "metadata": {},
   "outputs": [
    {
     "data": {
      "text/plain": [
       "1-element Vector{Nothing}:\n",
       " nothing"
      ]
     },
     "execution_count": 96,
     "metadata": {},
     "output_type": "execute_result"
    }
   ],
   "source": [
    "[matrixmin(1,92)]"
   ]
  },
  {
   "cell_type": "code",
   "execution_count": 106,
   "metadata": {},
   "outputs": [],
   "source": [
    "r = 1; c = 92;\n",
    "if r < 100 & r > 1 & c < 100 & c > 1\n",
    "print(1)\n",
    "    elseif r < 100 & r > 1 & c < 100 & c == 1\n",
    "     print(2)\n",
    "    elseif r < 100 & r > 1 & c == 100 & c > 1\n",
    "       print(3)\n",
    "    elseif r < 100 & r == 1 & c < 100 & c > 1\n",
    "       print(4)\n",
    "    elseif r == 100 & r > 1 & c < 100 & c > 1\n",
    "       print(5)\n",
    "    end"
   ]
  },
  {
   "cell_type": "code",
   "execution_count": 108,
   "metadata": {},
   "outputs": [
    {
     "data": {
      "text/plain": [
       "true"
      ]
     },
     "execution_count": 108,
     "metadata": {},
     "output_type": "execute_result"
    }
   ],
   "source": [
    "(r < 100) & (r == 1) & (c < 100) & (c > 1)"
   ]
  }
 ],
 "metadata": {
  "kernelspec": {
   "display_name": "Julia 1.6.4",
   "language": "julia",
   "name": "julia-1.6"
  },
  "language_info": {
   "file_extension": ".jl",
   "mimetype": "application/julia",
   "name": "julia",
   "version": "1.6.4"
  }
 },
 "nbformat": 4,
 "nbformat_minor": 4
}
