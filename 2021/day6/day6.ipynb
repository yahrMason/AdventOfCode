{
 "cells": [
  {
   "cell_type": "code",
   "execution_count": 1,
   "metadata": {},
   "outputs": [],
   "source": [
    "# read text\n",
    "s = readline(\"day6.txt\") |> x -> parse.(Int64, split(x, ','));"
   ]
  },
  {
   "cell_type": "code",
   "execution_count": 2,
   "metadata": {},
   "outputs": [
    {
     "data": {
      "text/plain": [
       "fish_sim (generic function with 1 method)"
      ]
     },
     "execution_count": 2,
     "metadata": {},
     "output_type": "execute_result"
    }
   ],
   "source": [
    "function update_cohort(cohort::Vector{Int64})\n",
    "    x = cat(cohort[2:9],cohort[1],dims = 1)\n",
    "    x[7] = x[7] + cohort[1]\n",
    "    return x\n",
    "end\n",
    "\n",
    "function fish_sim(cohort::Vector{Int64}, n_days::Int64)\n",
    "    for i in 1:n_days\n",
    "        cohort = update_cohort(cohort)\n",
    "    end\n",
    "    return sum(cohort)\n",
    "end"
   ]
  },
  {
   "cell_type": "code",
   "execution_count": 3,
   "metadata": {},
   "outputs": [
    {
     "data": {
      "text/plain": [
       "1631629590423"
      ]
     },
     "execution_count": 3,
     "metadata": {},
     "output_type": "execute_result"
    }
   ],
   "source": [
    "cohort = [count(x -> x == i, s) for i in 0:8]\n",
    "fish_sim(cohort, 80)\n",
    "fish_sim(cohort, 256)"
   ]
  },
  {
   "cell_type": "code",
   "execution_count": null,
   "metadata": {},
   "outputs": [],
   "source": []
  }
 ],
 "metadata": {
  "kernelspec": {
   "display_name": "Julia 1.6.4",
   "language": "julia",
   "name": "julia-1.6"
  },
  "language_info": {
   "file_extension": ".jl",
   "mimetype": "application/julia",
   "name": "julia",
   "version": "1.6.4"
  }
 },
 "nbformat": 4,
 "nbformat_minor": 4
}
