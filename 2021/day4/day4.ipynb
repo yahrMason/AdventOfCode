{
 "cells": [
  {
   "cell_type": "code",
   "execution_count": 3,
   "metadata": {},
   "outputs": [],
   "source": [
    "# read text\n",
    "s = readlines(\"day4.txt\")\n",
    "\n",
    "# extract numbers\n",
    "nums = parse.(Int64,split(s[1],','))\n",
    "\n",
    "# collect set of matricies\n",
    "function string_to_matrix(mat)\n",
    "   return hcat(([[parse(Int64, replace(mat[r][i:(i+1)], ' '=>\"\")) for i in [1:3:14;]] for r in 1:5])...) \n",
    "end\n",
    "mats = string_to_matrix.([s[i:(i + 4)] for i in [3:6:length(s);]]);"
   ]
  },
  {
   "cell_type": "markdown",
   "metadata": {},
   "source": [
    "### Part 1"
   ]
  },
  {
   "cell_type": "code",
   "execution_count": 5,
   "metadata": {},
   "outputs": [
    {
     "data": {
      "text/plain": [
       "update_count (generic function with 1 method)"
      ]
     },
     "execution_count": 5,
     "metadata": {},
     "output_type": "execute_result"
    }
   ],
   "source": [
    "function update_count(num, mat, count)\n",
    "    ix = findall(x->x==num, mat)\n",
    "    count[ix].=0\n",
    "    return count\n",
    "end"
   ]
  },
  {
   "cell_type": "code",
   "execution_count": 6,
   "metadata": {},
   "outputs": [
    {
     "data": {
      "text/plain": [
       "check_board (generic function with 1 method)"
      ]
     },
     "execution_count": 6,
     "metadata": {},
     "output_type": "execute_result"
    }
   ],
   "source": [
    "function check_board(count)\n",
    "    r = sum([x == 0 for x in sum(count, dims = 2)])\n",
    "    c = sum([x == 0 for x in sum(count, dims = 1)])\n",
    "    if r + c > 0\n",
    "        return 1\n",
    "    else\n",
    "        return 0\n",
    "    end\n",
    "end"
   ]
  },
  {
   "cell_type": "code",
   "execution_count": 7,
   "metadata": {},
   "outputs": [
    {
     "name": "stdout",
     "output_type": "stream",
     "text": [
      "8580.0"
     ]
    }
   ],
   "source": [
    "counts = [ones(5,5) for x in 1:length(mats)]\n",
    "for num in nums\n",
    "    counts = [update_count(num, mats[i], counts[i]) for i in 1:length(counts)]\n",
    "    checks = check_board.(counts)\n",
    "    if sum(checks) == 1\n",
    "        win_ix = findall(x->x==1, checks)[1]\n",
    "        print(sum(mats[win_ix].*counts[win_ix])*num)\n",
    "        break\n",
    "    end\n",
    "end"
   ]
  },
  {
   "cell_type": "markdown",
   "metadata": {},
   "source": [
    "### Part 2"
   ]
  },
  {
   "cell_type": "code",
   "execution_count": 8,
   "metadata": {},
   "outputs": [
    {
     "name": "stdout",
     "output_type": "stream",
     "text": [
      "9576.0"
     ]
    }
   ],
   "source": [
    "counts = [ones(5,5) for x in 1:length(mats)]\n",
    "winners = []\n",
    "for num in nums\n",
    "    counts = [update_count(num, mats[i], counts[i]) for i in 1:length(counts)]\n",
    "    checks = check_board.(counts)\n",
    "    if sum(checks) >= 1\n",
    "        win_ix = findall(x->x==1, checks)\n",
    "        new_win_ix = setdiff(win_ix, winners)\n",
    "        if length(new_win_ix) > 0\n",
    "            winners = vcat(winners, new_win_ix)\n",
    "        end\n",
    "        if length(winners) == length(mats)\n",
    "            win_ix = winners[length(winners)]\n",
    "            print(sum(mats[win_ix].*counts[win_ix])*num)\n",
    "            break\n",
    "        end\n",
    "    end\n",
    "end"
   ]
  }
 ],
 "metadata": {
  "kernelspec": {
   "display_name": "Julia 1.6.4",
   "language": "julia",
   "name": "julia-1.6"
  },
  "language_info": {
   "file_extension": ".jl",
   "mimetype": "application/julia",
   "name": "julia",
   "version": "1.6.4"
  }
 },
 "nbformat": 4,
 "nbformat_minor": 5
}
