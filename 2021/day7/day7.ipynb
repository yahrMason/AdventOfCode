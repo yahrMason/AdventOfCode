{
 "cells": [
  {
   "cell_type": "code",
   "execution_count": null,
   "metadata": {},
   "outputs": [],
   "source": [
    "# read text\n",
    "s = readline(\"day7.txt\") |> x -> parse.(Int64, split(x, ','));"
   ]
  },
  {
   "cell_type": "code",
   "execution_count": null,
   "metadata": {},
   "outputs": [],
   "source": [
    "## Part 1\n",
    "function loss(s,x)\n",
    "    return abs(s-x)\n",
    "end\n",
    "findmin([sum(loss.(s, i)) for i in 1:findmax(s)[1]])"
   ]
  },
  {
   "cell_type": "code",
   "execution_count": null,
   "metadata": {},
   "outputs": [],
   "source": [
    "## Part 2\n",
    "function loss2(s,x)\n",
    "    return sum(abs(s-x):-1:1)\n",
    "end\n",
    "findmin([sum(loss2.(s, i)) for i in 1:findmax(s)[1]])"
   ]
  }
 ],
 "metadata": {
  "kernelspec": {
   "display_name": "Julia 1.6.4",
   "language": "julia",
   "name": "julia-1.6"
  },
  "language_info": {
   "file_extension": ".jl",
   "mimetype": "application/julia",
   "name": "julia",
   "version": "1.6.4"
  }
 },
 "nbformat": 4,
 "nbformat_minor": 4
}
