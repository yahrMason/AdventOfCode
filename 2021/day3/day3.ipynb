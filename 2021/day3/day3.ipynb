{
 "cells": [
  {
   "cell_type": "code",
   "execution_count": 1,
   "id": "6a362d7f-630b-44cb-ae03-aec7cac1e823",
   "metadata": {},
   "outputs": [],
   "source": [
    "s = readlines(\"day3.txt\");"
   ]
  },
  {
   "cell_type": "markdown",
   "id": "7d5fa6a5-01c4-46bd-8fd1-404ed96f0416",
   "metadata": {},
   "source": [
    "### Part 1"
   ]
  },
  {
   "cell_type": "code",
   "execution_count": 2,
   "id": "0904ac81-9e46-4b5c-a7e4-ef819f90ae7c",
   "metadata": {},
   "outputs": [
    {
     "data": {
      "text/plain": [
       "4139586"
      ]
     },
     "execution_count": 2,
     "metadata": {},
     "output_type": "execute_result"
    }
   ],
   "source": [
    "using Statistics\n",
    "function mode(s,i)\n",
    "    mn = mean([parse(Int64, x[i]) for x in s])\n",
    "    if mn > 0.5\n",
    "        return 1\n",
    "    elseif  mn < 0.5\n",
    "        return 0\n",
    "    else \n",
    "        return 0.5\n",
    "    end\n",
    "end\n",
    "\n",
    "x = map(x -> mode(s,x), 1:length(s[1]));\n",
    "\n",
    "γ = sum([x[i]*2^(length(x)-i) for i in 1:length(x)])\n",
    "ϵ = sum([abs(x[i]-1)*2^(length(x)-i) for i in 1:length(x)]);\n",
    "γ*ϵ"
   ]
  },
  {
   "cell_type": "markdown",
   "id": "82fa01e0-5449-45d2-a405-06a031f7034f",
   "metadata": {},
   "source": [
    "### Part 2"
   ]
  },
  {
   "cell_type": "code",
   "execution_count": 3,
   "id": "ea2ca082-6865-42fa-8ab5-a81b14807b85",
   "metadata": {},
   "outputs": [
    {
     "data": {
      "text/plain": [
       "add (generic function with 1 method)"
      ]
     },
     "execution_count": 3,
     "metadata": {},
     "output_type": "execute_result"
    }
   ],
   "source": [
    "function add(i)\n",
    "    if i < 12\n",
    "        return i + 1\n",
    "    else \n",
    "        return 1\n",
    "    end\n",
    "end"
   ]
  },
  {
   "cell_type": "code",
   "execution_count": 4,
   "id": "e0ae8505-11f9-4b05-adcf-8799f36e9b55",
   "metadata": {},
   "outputs": [
    {
     "data": {
      "text/plain": [
       "update (generic function with 1 method)"
      ]
     },
     "execution_count": 4,
     "metadata": {},
     "output_type": "execute_result"
    }
   ],
   "source": [
    "function update(collection, index, value)\n",
    "    return [x for x in collection if parse(Int64, x[index]) == value]\n",
    "end"
   ]
  },
  {
   "cell_type": "code",
   "execution_count": 5,
   "id": "44a33255-95c6-4591-b34e-fe80d6254256",
   "metadata": {},
   "outputs": [
    {
     "data": {
      "text/plain": [
       "criteria (generic function with 1 method)"
      ]
     },
     "execution_count": 5,
     "metadata": {},
     "output_type": "execute_result"
    }
   ],
   "source": [
    "function criteria(collection, crit, index)\n",
    "    if crit == \"oxygen\"\n",
    "        return ceil(mode(collection,index))\n",
    "    elseif crit == \"co2\"\n",
    "        return floor(abs(1-mode(collection,index)))\n",
    "    else\n",
    "        print(\"Please set 'crit' arguement to 'oxygen' or 'co2'\")\n",
    "    end\n",
    "end"
   ]
  },
  {
   "cell_type": "code",
   "execution_count": 6,
   "id": "f5372aac-6098-40ff-aede-d0a410858aed",
   "metadata": {},
   "outputs": [
    {
     "data": {
      "text/plain": [
       "life_support_rating (generic function with 1 method)"
      ]
     },
     "execution_count": 6,
     "metadata": {},
     "output_type": "execute_result"
    }
   ],
   "source": [
    "function life_support_rating(collection, crit)\n",
    "    if (crit != \"oxygen\") & (crit != \"co2\")\n",
    "        print(\"Please set 'crit' arguement to 'oxygen' or 'co2'\")\n",
    "    else\n",
    "        i = 1\n",
    "        while length(collection) > 1\n",
    "            md = criteria(collection, crit,i)\n",
    "            collection = update(collection, i, md)\n",
    "            i = add(i)\n",
    "        end\n",
    "        x = collection[1]\n",
    "        return sum([parse(Int64, x[i])*2^(length(x)-i) for i in 1:length(x)])\n",
    "    end\n",
    "end"
   ]
  },
  {
   "cell_type": "code",
   "execution_count": 7,
   "id": "e58e8c7e-9072-46ba-949f-69395f8da5ef",
   "metadata": {},
   "outputs": [
    {
     "data": {
      "text/plain": [
       "1800151"
      ]
     },
     "execution_count": 7,
     "metadata": {},
     "output_type": "execute_result"
    }
   ],
   "source": [
    "life_support_rating(s,\"oxygen\")*life_support_rating(s,\"co2\")"
   ]
  },
  {
   "cell_type": "code",
   "execution_count": 8,
   "id": "7c96512b-ce0f-4136-b275-ca9482faca39",
   "metadata": {},
   "outputs": [
    {
     "name": "stdout",
     "output_type": "stream",
     "text": [
      "Please set 'crit' arguement to 'oxygen' or 'co2'"
     ]
    }
   ],
   "source": [
    "life_support_rating(s, \"tank\")"
   ]
  },
  {
   "cell_type": "code",
   "execution_count": null,
   "id": "0bd94d9d-572e-4839-91a6-76470ea063d1",
   "metadata": {},
   "outputs": [],
   "source": []
  }
 ],
 "metadata": {
  "kernelspec": {
   "display_name": "Julia 1.6.4",
   "language": "julia",
   "name": "julia-1.6"
  },
  "language_info": {
   "file_extension": ".jl",
   "mimetype": "application/julia",
   "name": "julia",
   "version": "1.6.4"
  }
 },
 "nbformat": 4,
 "nbformat_minor": 5
}
