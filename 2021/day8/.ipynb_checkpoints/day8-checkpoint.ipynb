{
 "cells": [
  {
   "cell_type": "code",
   "execution_count": 27,
   "metadata": {},
   "outputs": [],
   "source": [
    "## read lines\n",
    "lines = readlines(\"day8.txt\")\n",
    "input = [split(x,\" | \")[1] for x in lines]\n",
    "output = [split(x,\" | \")[2] for x in lines];"
   ]
  },
  {
   "cell_type": "code",
   "execution_count": 26,
   "metadata": {},
   "outputs": [
    {
     "data": {
      "text/plain": [
       "530"
      ]
     },
     "execution_count": 26,
     "metadata": {},
     "output_type": "execute_result"
    }
   ],
   "source": [
    "function is_num(x)\n",
    "    return (x == 2) | (x == 4) | (x == 3) | (x == 7)\n",
    "end\n",
    "\n",
    "function count_num(x)\n",
    "    return sum(is_num.(length.(split(x, ' '))))\n",
    "end\n",
    "\n",
    "sum(count_num.(output))"
   ]
  },
  {
   "cell_type": "markdown",
   "metadata": {},
   "source": [
    "## Part 2"
   ]
  },
  {
   "cell_type": "code",
   "execution_count": 190,
   "metadata": {},
   "outputs": [
    {
     "data": {
      "text/plain": [
       "1051087"
      ]
     },
     "execution_count": 190,
     "metadata": {},
     "output_type": "execute_result"
    }
   ],
   "source": [
    "function crack_the_code(input, output)\n",
    "    ## format the inputs\n",
    "    function format(s)\n",
    "        join(sort(collect(s)))\n",
    "    end\n",
    "    x = format.(split(input, ' '))\n",
    "\n",
    "    ## Decode\n",
    "\n",
    "    # build mapper\n",
    "    alpha = ['a','b','c','d','e','f','g']\n",
    "    decode_map = Dict(zip(alpha, [count(i->(i==a),join(x)) for a in alpha]))\n",
    "\n",
    "    # apply mapper\n",
    "    function decode(s, decode_map)\n",
    "        sum([decode_map[i] for i in s])\n",
    "    end\n",
    "    x_decode = [decode(s, decode_map) for s in x]\n",
    "\n",
    "    ## Encode\n",
    "    # See Excel\n",
    "    number_map = Dict(\n",
    "        42 => 0,\n",
    "        17 => 1,\n",
    "        34 => 2,\n",
    "        39 => 3,\n",
    "        30 => 4,\n",
    "        37 => 5,\n",
    "        41 => 6,\n",
    "        25 => 7,\n",
    "        49 => 8,\n",
    "        45 => 9\n",
    "    )\n",
    "\n",
    "    number = [number_map[i] for i in x_decode]\n",
    "    encode_map = Dict(zip(x,number))\n",
    "    \n",
    "    return parse(Int64, join([encode_map[x] for x in format.(split(output,' '))]))\n",
    "end\n",
    "\n",
    "# Compute Sum\n",
    "sum([crack_the_code(input[x],output[x]) for x in 1:length(lines)])"
   ]
  },
  {
   "cell_type": "code",
   "execution_count": 188,
   "metadata": {},
   "outputs": [
    {
     "data": {
      "text/plain": [
       "1051087"
      ]
     },
     "execution_count": 188,
     "metadata": {},
     "output_type": "execute_result"
    }
   ],
   "source": []
  },
  {
   "cell_type": "code",
   "execution_count": 98,
   "metadata": {},
   "outputs": [
    {
     "data": {
      "text/plain": [
       "8"
      ]
     },
     "execution_count": 98,
     "metadata": {},
     "output_type": "execute_result"
    }
   ],
   "source": []
  }
 ],
 "metadata": {
  "kernelspec": {
   "display_name": "Julia 1.6.4",
   "language": "julia",
   "name": "julia-1.6"
  },
  "language_info": {
   "file_extension": ".jl",
   "mimetype": "application/julia",
   "name": "julia",
   "version": "1.6.4"
  }
 },
 "nbformat": 4,
 "nbformat_minor": 4
}
