{
 "cells": [
  {
   "cell_type": "code",
   "execution_count": 2,
   "id": "26449976-8678-45e7-abfa-cb8bd004a139",
   "metadata": {},
   "outputs": [],
   "source": [
    "s = map(x->parse(Int64,x),readlines(\"day1.txt\"));"
   ]
  },
  {
   "cell_type": "code",
   "execution_count": 3,
   "id": "a723c4ed-8d3b-40f0-aaff-f09e749fcc89",
   "metadata": {},
   "outputs": [
    {
     "data": {
      "text/plain": [
       "1532"
      ]
     },
     "execution_count": 3,
     "metadata": {},
     "output_type": "execute_result"
    }
   ],
   "source": [
    "sum([(s[i] > s[i-1]) for i in 2:length(s)])"
   ]
  },
  {
   "cell_type": "markdown",
   "id": "a21626e7-926f-4a72-b671-6bee7b47121c",
   "metadata": {},
   "source": [
    "## Part 2"
   ]
  },
  {
   "cell_type": "code",
   "execution_count": 7,
   "id": "328d0df5-c730-41f0-8ddd-5e72a330b530",
   "metadata": {},
   "outputs": [
    {
     "data": {
      "text/plain": [
       "1571"
      ]
     },
     "execution_count": 7,
     "metadata": {},
     "output_type": "execute_result"
    }
   ],
   "source": [
    "s2 = [sum(s[(i-2):i]) for i in 3:length(s)]\n",
    "sum([(s2[i] > s2[i-1]) for i in 2:length(s2)])"
   ]
  }
 ],
 "metadata": {
  "kernelspec": {
   "display_name": "Julia 1.6.4",
   "language": "julia",
   "name": "julia-1.6"
  },
  "language_info": {
   "file_extension": ".jl",
   "mimetype": "application/julia",
   "name": "julia",
   "version": "1.6.4"
  }
 },
 "nbformat": 4,
 "nbformat_minor": 5
}
