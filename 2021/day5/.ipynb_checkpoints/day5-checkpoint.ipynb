{
 "cells": [
  {
   "cell_type": "code",
   "execution_count": 12,
   "id": "337af353-1d5e-47c8-ac51-f2c45962f165",
   "metadata": {},
   "outputs": [],
   "source": [
    "s = readlines(\"day5.txt\");"
   ]
  },
  {
   "cell_type": "code",
   "execution_count": 194,
   "id": "f1231338-358c-4892-a367-bf1a7fdae1b8",
   "metadata": {},
   "outputs": [
    {
     "data": {
      "text/plain": [
       "graph_to_matrix (generic function with 1 method)"
      ]
     },
     "execution_count": 194,
     "metadata": {},
     "output_type": "execute_result"
    }
   ],
   "source": [
    "function graph_to_matrix(x)\n",
    "    replace(x, ' '=>\"\") |> \n",
    "    x -> split.(x, \"->\")  |> \n",
    "    x -> split.(x, ',') |> \n",
    "    x -> parse.(Int64, hcat(x[1],x[2]))'\n",
    "end"
   ]
  },
  {
   "cell_type": "code",
   "execution_count": 195,
   "id": "117d4049-253f-498f-b0a3-b99756dde680",
   "metadata": {},
   "outputs": [],
   "source": [
    "mats = [graph_to_matrix(x) for x in s];"
   ]
  },
  {
   "cell_type": "code",
   "execution_count": 196,
   "id": "0ff3f826-6834-48bb-b64d-f28e8cdac0f3",
   "metadata": {},
   "outputs": [
    {
     "data": {
      "text/plain": [
       "find_range (generic function with 1 method)"
      ]
     },
     "execution_count": 196,
     "metadata": {},
     "output_type": "execute_result"
    }
   ],
   "source": [
    "function find_range(x)\n",
    "    return x[1]:(ifelse(x[1] <= x[2],1,-1)):x[2]\n",
    "end"
   ]
  },
  {
   "cell_type": "code",
   "execution_count": 320,
   "id": "c8d584af-97e5-49ca-bc6a-697c07498ab0",
   "metadata": {},
   "outputs": [],
   "source": [
    "mx = findmax([findmax(x)[1] for x in mats])[1]\n",
    "grid = zeros(mx,mx);\n",
    "for z in mats\n",
    "    \n",
    "    y = find_range(z[:,2])\n",
    "    x = find_range(z[:,1])\n",
    "    \n",
    "    if (z[1,1] == z[2,1]) | (z[1,2] == z[2,2])\n",
    "        grid[x,y] .+= 1 \n",
    "    end\n",
    "end"
   ]
  },
  {
   "cell_type": "code",
   "execution_count": 321,
   "id": "42df67c2-50cb-42ca-9edd-306fb71537c2",
   "metadata": {},
   "outputs": [
    {
     "data": {
      "text/plain": [
       "6311"
      ]
     },
     "execution_count": 321,
     "metadata": {},
     "output_type": "execute_result"
    }
   ],
   "source": [
    "sum(map(x -> x >= 2., grid))"
   ]
  },
  {
   "cell_type": "markdown",
   "id": "9e30235a-405c-4b1c-8239-bccbfd7562cf",
   "metadata": {},
   "source": [
    "## Part 2"
   ]
  },
  {
   "cell_type": "code",
   "execution_count": 322,
   "id": "0a7838c2-7b25-43ff-a176-a972e4e39789",
   "metadata": {},
   "outputs": [],
   "source": [
    "mx = findmax([findmax(x)[1] for x in mats])[1]\n",
    "grid = zeros(mx,mx);\n",
    "for z in mats\n",
    "   \n",
    "    y = find_range(z[:,2])\n",
    "    x = find_range(z[:,1])\n",
    "    \n",
    "    if (z[1,1] == z[2,1]) | (z[1,2] == z[2,2])\n",
    "        grid[x,y] .+= 1 \n",
    "    else\n",
    "        ix = [CartesianIndex(r[1], r[2]) for r in eachrow(hcat(x,y))]\n",
    "        for i in ix\n",
    "            grid[i] += 1\n",
    "        end\n",
    "    end\n",
    "end"
   ]
  },
  {
   "cell_type": "code",
   "execution_count": 323,
   "id": "e361bf43-4543-4cf4-ad9e-b25377045e05",
   "metadata": {},
   "outputs": [
    {
     "data": {
      "text/plain": [
       "19929"
      ]
     },
     "execution_count": 323,
     "metadata": {},
     "output_type": "execute_result"
    }
   ],
   "source": [
    "sum(map(x -> x >= 2., grid))"
   ]
  }
 ],
 "metadata": {
  "kernelspec": {
   "display_name": "Julia 1.6.4",
   "language": "julia",
   "name": "julia-1.6"
  },
  "language_info": {
   "file_extension": ".jl",
   "mimetype": "application/julia",
   "name": "julia",
   "version": "1.6.4"
  }
 },
 "nbformat": 4,
 "nbformat_minor": 5
}
