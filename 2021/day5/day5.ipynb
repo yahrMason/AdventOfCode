{
 "cells": [
  {
   "cell_type": "code",
   "execution_count": 93,
   "metadata": {},
   "outputs": [
    {
     "name": "stdout",
     "output_type": "stream",
     "text": [
      "Part1: 6311\n",
      "Part2: 19929"
     ]
    }
   ],
   "source": [
    "## read text\n",
    "s = readlines(\"day5.txt\")\n",
    "\n",
    "## extract matricies from raw text\n",
    "function graph_to_matrix(x)\n",
    "    replace(x, ' '=>\"\") |> \n",
    "    x -> split.(x, \"->\")  |> \n",
    "    x -> split.(x, ',') |> \n",
    "    x -> parse.(Int64, hcat(x[1],x[2]))'\n",
    "end\n",
    "mats = [graph_to_matrix(x) for x in s]\n",
    "\n",
    "## function to return step range from coordinates \n",
    "function find_range(x)\n",
    "    return x[1]:(ifelse(x[1] <= x[2],1,-1)):x[2]\n",
    "end\n",
    "\n",
    "## function to create indicies from coordinate input\n",
    "function make_index(x,y)\n",
    "    if length(x) == 1\n",
    "        return [CartesianIndex(r[1], r[2]) for r in eachrow(hcat(repeat(x, length(y)), y))]\n",
    "    elseif length(y) == 1\n",
    "        return [CartesianIndex(r[1], r[2]) for r in eachrow(hcat(x, repeat(y, length(x))))]\n",
    "    else\n",
    "        return [CartesianIndex(r[1], r[2]) for r in eachrow(hcat(x,y))]\n",
    "    end\n",
    "end\n",
    "\n",
    "## Main Function\n",
    "function day5(mats, part2 = false)\n",
    "    ## create coordinate grid\n",
    "    mx = findmax([findmax(x)[1] for x in mats])[1]\n",
    "    grid = zeros(mx,mx);\n",
    "    \n",
    "    for z in mats\n",
    "        ## construct cartesian indicies for pts\n",
    "        y = find_range(z[:,2])\n",
    "        x = find_range(z[:,1])\n",
    "        ix = make_index(x,y)\n",
    "\n",
    "        ## if part1 verify line is horizontal or vertical\n",
    "        if ( (z[1,1] == z[2,1]) | (z[1,2] == z[2,2]) )\n",
    "            for i in ix grid[i] += 1 end\n",
    "        elseif part2\n",
    "            for i in ix grid[i] += 1 end\n",
    "        end\n",
    "    end\n",
    "    ## return count of pts >= 2\n",
    "    return sum(map(x -> x >= 2., grid))\n",
    "end\n",
    "\n",
    "print(\"Part1: \", day5(mats))\n",
    "print(\"\\nPart2: \", day5(mats, true))"
   ]
  },
  {
   "cell_type": "code",
   "execution_count": null,
   "metadata": {},
   "outputs": [],
   "source": []
  }
 ],
 "metadata": {
  "kernelspec": {
   "display_name": "Julia 1.6.4",
   "language": "julia",
   "name": "julia-1.6"
  },
  "language_info": {
   "file_extension": ".jl",
   "mimetype": "application/julia",
   "name": "julia",
   "version": "1.6.4"
  }
 },
 "nbformat": 4,
 "nbformat_minor": 5
}
