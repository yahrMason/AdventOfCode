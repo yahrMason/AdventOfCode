{
 "cells": [
  {
   "cell_type": "code",
   "execution_count": 11,
   "id": "41bea017-e30f-43f5-9eb3-a357030638d5",
   "metadata": {},
   "outputs": [],
   "source": [
    "s = readlines(\"day2.txt\");"
   ]
  },
  {
   "cell_type": "code",
   "execution_count": 12,
   "id": "e6558fe4-afdf-4321-9053-eb14c6753685",
   "metadata": {},
   "outputs": [],
   "source": [
    "# parse directions\n",
    "dir = split.(s, ' ');"
   ]
  },
  {
   "cell_type": "code",
   "execution_count": 15,
   "id": "e1a6e351-9343-4ce3-a598-77a759a812f3",
   "metadata": {},
   "outputs": [
    {
     "data": {
      "text/plain": [
       "2039256"
      ]
     },
     "execution_count": 15,
     "metadata": {},
     "output_type": "execute_result"
    }
   ],
   "source": [
    "x = 0; y = 0\n",
    "for d in dir\n",
    "    \n",
    "    ins = d[1]\n",
    "    val = parse(Int64, d[2])\n",
    "    \n",
    "    if ins == \"forward\"\n",
    "        x += val\n",
    "    elseif ins == \"down\"\n",
    "        y += val\n",
    "    else\n",
    "        y -= val\n",
    "    end\n",
    "    \n",
    "end \n",
    "x*y"
   ]
  },
  {
   "cell_type": "markdown",
   "id": "9599f2f5-b61c-4f78-861d-a53954ffae97",
   "metadata": {},
   "source": [
    "## Part 2"
   ]
  },
  {
   "cell_type": "code",
   "execution_count": 16,
   "id": "83bb2aaa-fae3-4fe6-be93-cbeac033c93d",
   "metadata": {},
   "outputs": [
    {
     "data": {
      "text/plain": [
       "1856459736"
      ]
     },
     "execution_count": 16,
     "metadata": {},
     "output_type": "execute_result"
    }
   ],
   "source": [
    "x = 0; y = 0; aim = 0\n",
    "for d in dir\n",
    "    \n",
    "    ins = d[1]\n",
    "    val = parse(Int64, d[2])\n",
    "    \n",
    "    if ins == \"forward\"\n",
    "        x += val\n",
    "        y += val*aim\n",
    "    elseif ins == \"down\"\n",
    "        aim += val\n",
    "    else\n",
    "        aim -= val\n",
    "    end\n",
    "    \n",
    "end \n",
    "x*y"
   ]
  }
 ],
 "metadata": {
  "kernelspec": {
   "display_name": "Julia 1.6.4",
   "language": "julia",
   "name": "julia-1.6"
  },
  "language_info": {
   "file_extension": ".jl",
   "mimetype": "application/julia",
   "name": "julia",
   "version": "1.6.4"
  }
 },
 "nbformat": 4,
 "nbformat_minor": 5
}
